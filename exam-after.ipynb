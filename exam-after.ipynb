{
 "cells": [
  {
   "cell_type": "markdown",
   "metadata": {
    "ein.tags": "worksheet-0",
    "slideshow": {
     "slide_type": "-"
    }
   },
   "source": [
    "# Problem 1: Data with R"
   ]
  },
  {
   "cell_type": "code",
   "execution_count": 1,
   "metadata": {
    "autoscroll": false,
    "ein.hycell": false,
    "ein.tags": "worksheet-0",
    "slideshow": {
     "slide_type": "-"
    }
   },
   "outputs": [],
   "source": [
    "%load_ext rpy2.ipython"
   ]
  },
  {
   "cell_type": "code",
   "execution_count": 2,
   "metadata": {
    "autoscroll": false,
    "ein.hycell": false,
    "ein.tags": "worksheet-0",
    "slideshow": {
     "slide_type": "-"
    }
   },
   "outputs": [
    {
     "name": "stderr",
     "output_type": "stream",
     "text": [
      "/opt/conda/lib/python3.6/site-packages/rpy2/rinterface/__init__.py:186: RRuntimeWarning: Loading tidyverse: ggplot2\n",
      "Loading tidyverse: tibble\n",
      "Loading tidyverse: tidyr\n",
      "Loading tidyverse: readr\n",
      "Loading tidyverse: purrr\n",
      "Loading tidyverse: dplyr\n",
      "\n",
      "  warnings.warn(x, RRuntimeWarning)\n",
      "/opt/conda/lib/python3.6/site-packages/rpy2/rinterface/__init__.py:186: RRuntimeWarning: Conflicts with tidy packages ---------------------------------------------------\n",
      "\n",
      "  warnings.warn(x, RRuntimeWarning)\n",
      "/opt/conda/lib/python3.6/site-packages/rpy2/rinterface/__init__.py:186: RRuntimeWarning: filter(): dplyr, stats\n",
      "lag():    dplyr, stats\n",
      "\n",
      "  warnings.warn(x, RRuntimeWarning)\n"
     ]
    }
   ],
   "source": [
    "%%R\n",
    "\n",
    "library(tidyverse)"
   ]
  },
  {
   "cell_type": "code",
   "execution_count": 3,
   "metadata": {
    "autoscroll": false,
    "ein.hycell": false,
    "ein.tags": "worksheet-0",
    "slideshow": {
     "slide_type": "-"
    }
   },
   "outputs": [
    {
     "name": "stderr",
     "output_type": "stream",
     "text": [
      "/opt/conda/lib/python3.6/site-packages/rpy2/rinterface/__init__.py:186: RRuntimeWarning: Parsed with column specification:\n",
      "cols(\n",
      "  X = col_double(),\n",
      "  label = col_integer()\n",
      ")\n",
      "\n",
      "  warnings.warn(x, RRuntimeWarning)\n"
     ]
    }
   ],
   "source": [
    "%%R\n",
    "# make sure to get your data in the same folder, next to the notebook file\n",
    "# so that this will run!\n",
    "\n",
    "\n",
    "dat <- read_csv('classification_data.csv')"
   ]
  },
  {
   "cell_type": "code",
   "execution_count": 6,
   "metadata": {
    "autoscroll": false,
    "ein.hycell": false,
    "ein.tags": "worksheet-0",
    "slideshow": {
     "slide_type": "-"
    }
   },
   "outputs": [
    {
     "data": {
      "image/png": "[encoded data removed]"
     },
     "metadata": {},
     "output_type": "display_data"
    }
   ],
   "source": [
    "%%R\n",
    "\n",
    "# Your data consists of an \"X\" column and a \"label\" column\n",
    "# Use ggplot to plot a kernel density estimate of each label (overlayed on the same plot)\n",
    "# hint: don't forget to make sure the labels are factors!\n",
    "\n",
    "\n",
    "#This coverts the 'label' column to a factor to work with ggplot2\n",
    "dat$label <- as.factor(dat$label)\n",
    "\n",
    "#plots the data as a kernel density, using the two factors for fill colors\n",
    "ggplot(dat, aes(x = X)) + \n",
    "  geom_density(aes(fill = label), alpha = 0.4) + \n",
    "  ggtitle(\"Kernel Density estimates by label\")\n"
   ]
  },
  {
   "cell_type": "markdown",
   "metadata": {
    "ein.tags": "worksheet-0",
    "slideshow": {
     "slide_type": "-"
    }
   },
   "source": [
    "# Problem 2: Using Classes in Python"
   ]
  },
  {
   "cell_type": "code",
   "execution_count": 7,
   "metadata": {
    "autoscroll": false,
    "ein.hycell": false,
    "ein.tags": "worksheet-0",
    "slideshow": {
     "slide_type": "-"
    }
   },
   "outputs": [],
   "source": [
    "from abc import ABC, abstractmethod\n",
    "from math import sqrt\n",
    "\n",
    "def smart_zip(a,b):\n",
    "    try:\n",
    "        return zip(a, b)\n",
    "    except TypeError:\n",
    "        return zip([a], [b])\n",
    "\n",
    "class AbstractKNeighbors(ABC):\n",
    "    def __init__(self, K):\n",
    "        self.K = K\n",
    "\n",
    "    def fit(self, X, y):\n",
    "        \"\"\" Train the model!\n",
    "        \n",
    "        X should be a list of data points\n",
    "        y should be a list of labels\n",
    "        \"\"\"\n",
    "        self.X = X\n",
    "        self.y = y\n",
    "        return self\n",
    "\n",
    "    @abstractmethod\n",
    "    def _make_prediction(self, labels):\n",
    "        pass\n",
    "\n",
    "    def predict(self, new_x):\n",
    "        \"\"\"Find the nearest K neighbors\n",
    "        \n",
    "        new_x should be a single data point\n",
    "        \"\"\"\n",
    "\n",
    "        dists = [sqrt(sum(([(i-j)**2 for i,j in smart_zip(x,new_x)])))\n",
    "                 for x in self.X]\n",
    "        sorted_neighbors = sorted(enumerate(dists),\n",
    "                                  key=lambda t: t[1])\n",
    "        labels = [self.y[i] for i,_ in sorted_neighbors]\n",
    "        return self._make_prediction(labels)\n",
    "\n",
    "\n",
    "class KNearestNeighbors(AbstractKNeighbors):\n",
    "    def _make_prediction(self, labels):\n",
    "        avg = sum(labels[:self.K])/self.K\n",
    "        return round(avg)\n",
    "\n",
    "class KFurthestNeighbors(AbstractKNeighbors):\n",
    "    def _make_prediction(self, labels):\n",
    "        avg = sum(labels[-self.K:])/self.K\n",
    "        return round(1 - avg)"
   ]
  },
  {
   "cell_type": "code",
   "execution_count": 8,
   "metadata": {
    "autoscroll": false,
    "ein.hycell": false,
    "ein.tags": "worksheet-0",
    "slideshow": {
     "slide_type": "-"
    }
   },
   "outputs": [],
   "source": [
    "from csv import reader\n",
    "\n",
    "with open('classification_data.csv', 'r') as f:\n",
    "    dat = list(reader(f))[1:]\n",
    "    dat = [[float(x), int(label)] for x,label in dat]"
   ]
  },
  {
   "cell_type": "markdown",
   "metadata": {
    "ein.tags": "worksheet-0",
    "slideshow": {
     "slide_type": "-"
    }
   },
   "source": [
    "## Problem 2.1: Shuffling!"
   ]
  },
  {
   "cell_type": "code",
   "execution_count": 9,
   "metadata": {
    "autoscroll": false,
    "ein.hycell": false,
    "ein.tags": "worksheet-0",
    "slideshow": {
     "slide_type": "-"
    }
   },
   "outputs": [],
   "source": [
    "# In your data, \"X\" is a data point that is nothing more than\n",
    "# a single number. \n",
    "# Shuffle your data into a random order (use random.shuffle!)\n",
    "import random\n",
    "random.shuffle(dat)\n",
    "#this function shuffles the data in place - no need for anything fancier\n",
    "\n"
   ]
  },
  {
   "cell_type": "code",
   "execution_count": 10,
   "metadata": {
    "autoscroll": false,
    "ein.hycell": false,
    "ein.tags": "worksheet-0",
    "slideshow": {
     "slide_type": "-"
    }
   },
   "outputs": [],
   "source": [
    "# If you shuffled your data, this test should pass\n",
    "# (i.e. not throw an error)\n",
    "\n",
    "assert(sum([label for x,label in dat[:50]]) != 0)"
   ]
  },
  {
   "cell_type": "markdown",
   "metadata": {
    "ein.tags": "worksheet-0",
    "slideshow": {
     "slide_type": "-"
    }
   },
   "source": [
    "## Problem 2.2: Splitting!"
   ]
  },
  {
   "cell_type": "code",
   "execution_count": 11,
   "metadata": {
    "autoscroll": false,
    "ein.hycell": false,
    "ein.tags": "worksheet-0",
    "slideshow": {
     "slide_type": "-"
    }
   },
   "outputs": [
    {
     "name": "stdout",
     "output_type": "stream",
     "text": [
      "700 300\n"
     ]
    }
   ],
   "source": [
    "# Split your data, which is now a list, into 2 sublists:\n",
    "# \"train\" and \"test\"\n",
    "# The \"train\" group should have 700 elements\n",
    "# The test group should have 300 elements\n",
    "# Each group should have the same format as the original data\n",
    "train = dat[:700]\n",
    "test = dat[700:]\n",
    "print(len(train), len(test))\n"
   ]
  },
  {
   "cell_type": "code",
   "execution_count": 20,
   "metadata": {
    "autoscroll": false,
    "ein.hycell": false,
    "ein.tags": "worksheet-0",
    "slideshow": {
     "slide_type": "-"
    }
   },
   "outputs": [],
   "source": [
    "# Now you will need to make another split, within the groups!\n",
    "# For each group (\"train\" and \"test\") split the X's from the labels.\n",
    "\n",
    "#Using list comprehension\n",
    "train_X = [x for x,y in train]\n",
    "train_y = [y for x,y in train]\n",
    "test_X = [x for x,y in test]\n",
    "test_y = [y for x,y in test]\n",
    "\n",
    "#OR, even better, deconstruct the lists using zip and * - basically the opposite of zip\n",
    "train_X, train_y = zip(*train)\n",
    "test_X, test_y = zip(*test)"
   ]
  },
  {
   "cell_type": "markdown",
   "metadata": {
    "ein.tags": "worksheet-0",
    "slideshow": {
     "slide_type": "-"
    }
   },
   "source": [
    "## Problem 2.3: Testing models!"
   ]
  },
  {
   "cell_type": "code",
   "execution_count": 21,
   "metadata": {
    "autoscroll": false,
    "ein.hycell": false,
    "ein.tags": "worksheet-0",
    "slideshow": {
     "slide_type": "-"
    }
   },
   "outputs": [],
   "source": [
    "# For each model: \n",
    "# 1. Create an instance the class, with constructor parameters: K=5\n",
    "#Simmply iniitalize the two different models\n",
    "model = KNearestNeighbors(K=5)\n",
    "model2 = KFurthestNeighbors(K=5)\n",
    "\n",
    "# 2. Train the instance on the \"train\" groups X's and labels (y's)\n",
    "#Call the fit method of the models - basically just stores the data into our models\n",
    "mfit = model.fit(train_X, train_y)\n",
    "mfit2 = model2.fit(train_X, train_y)\n",
    "\n",
    "# 3. Test how well the instance does: \n",
    "#    A. Use the trained instance to predict the label of each \"X\" in the \"test\" group\n",
    "# We have to call the predict method for each new X we want to predict - list comprehension like this\n",
    "# is much cleaner than a for loop\n",
    "pred_labels = [mfit.predict(x) for x in test_X]\n",
    "pred_labels2 = [mfit2.predict(x) for x in test_X]\n",
    "\n",
    "#    B. Use your \"test\" labels to see if the predicted label is equal the true label\n",
    "# Again we use list commprehension in place of a loop to go over all the predicted values\n",
    "# We have to zip the predictions and actual values into one list in order to do the pred==act comparison like this\n",
    "correct = [pred==act for pred, act in zip(pred_labels, test_y)]\n",
    "correct2 = [pred==act for pred, act in zip(pred_labels2, test_y)]\n"
   ]
  },
  {
   "cell_type": "code",
   "execution_count": 22,
   "metadata": {
    "autoscroll": false,
    "ein.hycell": false,
    "ein.tags": "worksheet-0",
    "slideshow": {
     "slide_type": "-"
    }
   },
   "outputs": [
    {
     "name": "stdout",
     "output_type": "stream",
     "text": [
      "Nearest Neighbors correct predictions: 197 or, 65.7 percent\n",
      "Furthest Neighbors correct predictions: 205 or, 68.3 percent\n"
     ]
    }
   ],
   "source": [
    "# Compare the two classes of models!\n",
    "#Summing up the Boolean list we created above tells us the number of correct predictions\n",
    "print(\"Nearest Neighbors correct predictions:\", sum(correct), \"or,\", \n",
    "      round(sum(correct)/len(test_y)*100,1), \"percent\")\n",
    "print(\"Furthest Neighbors correct predictions:\", sum(correct2), \"or,\", \n",
    "      round(sum(correct2)/len(test_y)*100,1), \"percent\")"
   ]
  },
  {
   "cell_type": "code",
   "execution_count": 23,
   "metadata": {},
   "outputs": [
    {
     "name": "stdout",
     "output_type": "stream",
     "text": [
      "Furthest Neighbors was more accurate!\n"
     ]
    }
   ],
   "source": [
    "if sum(correct)>sum(correct2):\n",
    "    print(\"Nearest Neighbors was more accurate\")\n",
    "elif sum(correct)<sum(correct2):\n",
    "    print(\"Furthest Neighbors was more accurate!\")\n",
    "else:\n",
    "    print(\"Models got the same number correct\")\n",
    "    "
   ]
  },
  {
   "cell_type": "code",
   "execution_count": null,
   "metadata": {},
   "outputs": [],
   "source": []
  }
 ],
 "metadata": {
  "kernelspec": {
   "display_name": "Python 3",
   "language": "python",
   "name": "python3"
  },
  "language_info": {
   "codemirror_mode": {
    "name": "ipython",
    "version": 3
   },
   "file_extension": ".py",
   "mimetype": "text/x-python",
   "name": "python",
   "nbconvert_exporter": "python",
   "pygments_lexer": "ipython3",
   "version": "3.6.3"
  },
  "name": "Untitled.ipynb"
 },
 "nbformat": 4,
 "nbformat_minor": 2
}
